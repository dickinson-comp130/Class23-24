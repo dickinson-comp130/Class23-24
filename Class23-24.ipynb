{
 "cells": [
  {
   "cell_type": "markdown",
   "metadata": {},
   "source": [
    "# Class 23-24 - Conditional Iteration  \n",
    "**COMP130 - Introduction to Computing**  \n",
    "**Dickinson College**  "
   ]
  },
  {
   "cell_type": "markdown",
   "metadata": {},
   "source": [
    "### Names:"
   ]
  },
  {
   "cell_type": "markdown",
   "metadata": {},
   "source": []
  },
  {
   "cell_type": "markdown",
   "metadata": {},
   "source": [
    "### Basic `while` Loops"
   ]
  },
  {
   "cell_type": "markdown",
   "metadata": {},
   "source": [
    "Consider the program below, which contains a `while` loop:"
   ]
  },
  {
   "cell_type": "code",
   "execution_count": null,
   "metadata": {
    "deletable": false,
    "editable": false
   },
   "outputs": [],
   "source": [
    "x = int(input('Enter a good number: '))\n",
    "\n",
    "while (x < 1) or (x > 10):\n",
    "    print(str(x) + ' is no good. Please try again.')\n",
    "    x = int(input('Enter a different number and make it good this time: '))\n",
    "\n",
    "print(\"Thank you!\")"
   ]
  },
  {
   "cell_type": "markdown",
   "metadata": {},
   "source": [
    "__Q1:__ Which line in the above program does the *setup* for the `while` loop?"
   ]
  },
  {
   "cell_type": "code",
   "execution_count": null,
   "metadata": {},
   "outputs": [],
   "source": []
  },
  {
   "cell_type": "markdown",
   "metadata": {},
   "source": [
    "__Q2:__ What is the *loop condition* in the above program?"
   ]
  },
  {
   "cell_type": "code",
   "execution_count": null,
   "metadata": {},
   "outputs": [],
   "source": []
  },
  {
   "cell_type": "markdown",
   "metadata": {},
   "source": [
    "__Q3:__ Which line in the program performs the *update* to the variable in the loop condition?"
   ]
  },
  {
   "cell_type": "code",
   "execution_count": null,
   "metadata": {},
   "outputs": [],
   "source": []
  },
  {
   "cell_type": "markdown",
   "metadata": {},
   "source": [
    "__Q4:__ Will the body of the `while` loop execute if the first number the user enters is 6?  Why or why not?"
   ]
  },
  {
   "cell_type": "markdown",
   "metadata": {},
   "source": []
  },
  {
   "cell_type": "markdown",
   "metadata": {},
   "source": [
    "__Q5:__ Will the body of the `while` loop execute if the first number the user enters is 12? Why or why not?"
   ]
  },
  {
   "cell_type": "markdown",
   "metadata": {},
   "source": []
  },
  {
   "cell_type": "markdown",
   "metadata": {},
   "source": [
    "__Q6:__ What are all of the values of `x` that will cause the `while` loop to *terminate*?"
   ]
  },
  {
   "cell_type": "markdown",
   "metadata": {},
   "source": []
  },
  {
   "cell_type": "markdown",
   "metadata": {},
   "source": [
    "__Q7:__ Rearrange the program statements below into a program that displays all of the multiples of 5 between 0 and 50.\n",
    "```Python\n",
    "num = num + 5\n",
    "print(num)\n",
    "while num <= 50:\n",
    "num=0\n",
    "```"
   ]
  },
  {
   "cell_type": "code",
   "execution_count": null,
   "metadata": {},
   "outputs": [],
   "source": []
  },
  {
   "cell_type": "markdown",
   "metadata": {},
   "source": [
    "__Q8:__ Rearrange the program statements below into a program that reads integer values from the user and adds them up until the value -1 is entered and then prints the sum.  Note: The -1 is not added into the total.\n",
    "```Python\n",
    "while num != -1:\n",
    "total = total + num\n",
    "num = int(input('Enter a value (-1 to quit): '))\n",
    "print(total)\n",
    "total=0\n",
    "num = int(input('Enter a value (-1 to quit): '))\n",
    "```"
   ]
  },
  {
   "cell_type": "code",
   "execution_count": null,
   "metadata": {},
   "outputs": [],
   "source": []
  },
  {
   "cell_type": "markdown",
   "metadata": {},
   "source": [
    "### Infinite Loops"
   ]
  },
  {
   "cell_type": "markdown",
   "metadata": {},
   "source": [
    "The `for` loops we have seen always loop a specified number of times.  Thus, those loops always *terminated*.  With `while` loops however the added flexibility of the loop makes it is possible to write *infinite* loops that never terminate. "
   ]
  },
  {
   "cell_type": "markdown",
   "metadata": {},
   "source": [
    "__Q9:__ Consider the program below:\n",
    "```Python\n",
    "x=2\n",
    "while x < 10:\n",
    "    print('Starting the loop')\n",
    "    print(x + 1)\n",
    "    print('Ending the loop')\n",
    "```\n",
    "Explain why the `while` loop in this program is an infinite loop. \n",
    "\n",
    "For these questions, make use of the vocabulary including *setup*, *condition*, *header*, *body* and *update* as necessary.  Also note that these questions are not asking *how to fix the program* they are asking you to explain why the loop does not terminate."
   ]
  },
  {
   "cell_type": "markdown",
   "metadata": {},
   "source": []
  },
  {
   "cell_type": "markdown",
   "metadata": {},
   "source": [
    "__Q10:__ Consider the program below:\n",
    "```Python\n",
    "x=3\n",
    "while(x != 100):\n",
    "    print(x)\n",
    "    x = x + 2\n",
    "```\n",
    "Explain why the `while` loop in this program is an infinite loop."
   ]
  },
  {
   "cell_type": "markdown",
   "metadata": {},
   "source": [
    "__Q11:__ Consider the program below:\n",
    "```Python\n",
    "value = 0\n",
    "while (value != 5) or (value != 7):\n",
    "    value = int(input(\"Enter a number: \"))\n",
    "    print(value)\n",
    "```\n",
    "Explain why the `while` loop in this program is an infinite loop."
   ]
  },
  {
   "cell_type": "markdown",
   "metadata": {},
   "source": []
  },
  {
   "cell_type": "markdown",
   "metadata": {},
   "source": [
    "### `while` Loops"
   ]
  },
  {
   "cell_type": "markdown",
   "metadata": {},
   "source": [
    "__Q12:__ Write a program that prompts the user for integer values until the value 0 is entered.  It should then report the largest value that was entered."
   ]
  },
  {
   "cell_type": "code",
   "execution_count": null,
   "metadata": {},
   "outputs": [],
   "source": []
  },
  {
   "cell_type": "markdown",
   "metadata": {},
   "source": [
    "__Q13:__ Write a program that prompts the user to enter option `A`, `B` or `C`.  If they enter one of these options the program displays `Thank you.`  Otherwise it responds [` I'm sorry Dave. I'm afraid I can't do that.`](https://www.youtube.com/watch?v=Mme2Aya_6Bc) and then prompts again, repeating the process."
   ]
  },
  {
   "cell_type": "code",
   "execution_count": null,
   "metadata": {},
   "outputs": [],
   "source": []
  },
  {
   "cell_type": "markdown",
   "metadata": {},
   "source": [
    "### Anything `for` can do `while` can do (but not necesarily better)"
   ]
  },
  {
   "cell_type": "markdown",
   "metadata": {},
   "source": [
    "A `while` loop is more flexible than the simple form of the `for` loop that we have seen. Thus, it makes sense that anything we could do with a simple `for` loop we should also be able to do with a `while` loop.  In this section you will rewrite some `for` loops using `while` loops.  Note that this does not suggest that the `while` loops are better than the `for` loops. It is intended to give you more practice using `while` loops in different circumstances. "
   ]
  },
  {
   "cell_type": "markdown",
   "metadata": {},
   "source": [
    "__Q14:__ Rewrite the program below so that it generates the same output but uses a `while` loop instead of a `for` loop.\n",
    "```Python\n",
    "line='*'\n",
    "for level in range(10):\n",
    "    print(line)\n",
    "    line = line + '*'\n",
    "```"
   ]
  },
  {
   "cell_type": "code",
   "execution_count": null,
   "metadata": {},
   "outputs": [],
   "source": []
  },
  {
   "cell_type": "markdown",
   "metadata": {},
   "source": [
    "__Q15:__ Rewrite the `range_sum` function below so that it computes the same result but uses a `while` loop instead of a `for` loop.\n",
    "```Python\n",
    "def range_sum(low, high):\n",
    "    sum = 0\n",
    "    cur_num = low\n",
    "    \n",
    "    num_count = (high-low) + 1\n",
    "    for num in range(num_count):\n",
    "       sum = sum + cur_num\n",
    "       cur_num = cur_num + 1\n",
    "\n",
    "    return sum\n",
    "```\n",
    "\n",
    "Included below is the set of automated tests for `range_sum` from the __IncDevDebugTestExamples.ipynb__ notebook from Class19-20. Because your new `range_sum` function should compute the same results, you can use those automated tests to check your new implementation. "
   ]
  },
  {
   "cell_type": "code",
   "execution_count": null,
   "metadata": {},
   "outputs": [],
   "source": []
  },
  {
   "cell_type": "code",
   "execution_count": null,
   "metadata": {
    "deletable": false,
    "editable": false
   },
   "outputs": [],
   "source": [
    "assert range_sum(1,4)==10, '1...4 is incorrect'\n",
    "assert range_sum(2,5)==14, '2...5 is incorrect'\n",
    "assert range_sum(0,4)==10, '0...4 is incorrect'\n",
    "assert range_sum(-3,2)==-3, '-3...2 is incorrect'\n",
    "print('Success!')"
   ]
  },
  {
   "cell_type": "markdown",
   "metadata": {},
   "source": [
    "### The Guessing Game"
   ]
  },
  {
   "cell_type": "markdown",
   "metadata": {},
   "source": [
    "__Q16:__ Create a file named __GuessTheNumber.py__ in your __Class23-24__ folder.  In that file write a program that lets you play the guess the number game with the computer.  The computer should pick a random number from 1 to 100 and then repeatedly ask you to guess until you guess the correct number.  In response to each of your guesses the computer should respond with either: `Too low`, `Too high` or `You win!`.  \n",
    "\n",
    "Hint: If you have trouble getting going, try using the *Incremental Development Process* from Class 19-20. \n",
    "\n",
    "Be sure you are able to run your program from the Terminal.   Hint: Recall the `cd`, `ls` and `Python3` commands."
   ]
  },
  {
   "cell_type": "markdown",
   "metadata": {},
   "source": [
    "### Optional Challenge"
   ]
  },
  {
   "cell_type": "markdown",
   "metadata": {},
   "source": [
    "Create a file named __GuessMyNumber.py__ in your __Class23-24__ folder.  In that file write a program in which the roles from __Q16__ are reversed.  The program will try to guess your number. It should tell you to think of a number.  Then it should guess and prompt you to respond with `Too low`, `Too high` or `You win!`, guessing over and over until you respond with `You win!`.  Try to give your program a _smart_ strategy similar to what you might use. Note: The best strategy on average reduces the range of possible numbers by half with each guess.  Be sure you are able to run your program from the Terminal."
   ]
  },
  {
   "cell_type": "markdown",
   "metadata": {},
   "source": [
    "![Stop sign](stop.png)\n",
    "End of Class 23 material."
   ]
  },
  {
   "cell_type": "markdown",
   "metadata": {},
   "source": [
    "### The `break` Statement"
   ]
  },
  {
   "cell_type": "markdown",
   "metadata": {},
   "source": [
    "Consider the program below:"
   ]
  },
  {
   "cell_type": "code",
   "execution_count": null,
   "metadata": {
    "deletable": false,
    "editable": false
   },
   "outputs": [],
   "source": [
    "import random\n",
    "\n",
    "num=0\n",
    "tries=0\n",
    "while num != 50:\n",
    "    num=random.randint(1,100)\n",
    "    tries = tries + 1\n",
    "    \n",
    "print('It took ' + str(tries) + ' tries to get 50.')"
   ]
  },
  {
   "cell_type": "markdown",
   "metadata": {},
   "source": [
    "__Q17:__ What is the *condition* of the `while` loop in the above program?"
   ]
  },
  {
   "cell_type": "markdown",
   "metadata": {},
   "source": []
  },
  {
   "cell_type": "markdown",
   "metadata": {},
   "source": [
    "__Q18:__ What must happen for the `while` loop in the above program to *terminate*?"
   ]
  },
  {
   "cell_type": "markdown",
   "metadata": {},
   "source": []
  },
  {
   "cell_type": "markdown",
   "metadata": {},
   "source": [
    "__Q19:__ How are your answers to __Q17__ and __Q18__ related?"
   ]
  },
  {
   "cell_type": "markdown",
   "metadata": {},
   "source": []
  },
  {
   "cell_type": "markdown",
   "metadata": {},
   "source": [
    "__Q20:__ Rearrange the statements below to produce a program that has the same behavior as the one above.\n",
    "```Python\n",
    "print('It took ' + str(tries) + ' tries to get 50.')\n",
    "import random \n",
    "break  \n",
    "tries = tries + 1\n",
    "while True:\n",
    "if (num == 50):\n",
    "tries=0\n",
    "num = random.randint(1,100)\n",
    "```"
   ]
  },
  {
   "cell_type": "code",
   "execution_count": null,
   "metadata": {},
   "outputs": [],
   "source": []
  },
  {
   "cell_type": "markdown",
   "metadata": {},
   "source": [
    "### With and without `break`"
   ]
  },
  {
   "cell_type": "markdown",
   "metadata": {},
   "source": [
    "__Q21:__ Rewrite the `num_doublings` function so that it accomplishes the same task, but does not use a `while True` loop or a `break` statement."
   ]
  },
  {
   "cell_type": "code",
   "execution_count": null,
   "metadata": {
    "deletable": false,
    "editable": false
   },
   "outputs": [],
   "source": [
    "def num_doublings(start, end):\n",
    "    \"\"\" Determine how many times start has to be doubled\n",
    "        until it would be greater than end.\"\"\"\n",
    "\n",
    "    cur_val = start\n",
    "    doublings = 0\n",
    "\n",
    "    while True:\n",
    "        if cur_val >= end:\n",
    "            break\n",
    "    \n",
    "        cur_val = cur_val * 2\n",
    "        doublings = doublings + 1\n",
    "    \n",
    "    return doublings"
   ]
  },
  {
   "cell_type": "code",
   "execution_count": null,
   "metadata": {
    "deletable": false,
    "editable": false
   },
   "outputs": [],
   "source": [
    "start_val = float(input('Enter a dollar amount: '))   \n",
    "count=num_doublings(start_val, 1000000)\n",
    "print('It would take ' + str(count) + ' doublings to reach $1,000,000')"
   ]
  },
  {
   "cell_type": "code",
   "execution_count": null,
   "metadata": {},
   "outputs": [],
   "source": []
  },
  {
   "cell_type": "markdown",
   "metadata": {},
   "source": [
    "__Q22:__ Rewrite the following program so that it accomplishes the same task, but does not use a `while True` loop or a `break` statement."
   ]
  },
  {
   "cell_type": "code",
   "execution_count": null,
   "metadata": {
    "deletable": false,
    "editable": false
   },
   "outputs": [],
   "source": [
    "from graphics import *\n",
    "\n",
    "\"\"\"\n",
    "Draw circles at each point where the mouse is\n",
    "clicked until Q or q is pressed, then exit the\n",
    "program.\n",
    "\"\"\"\n",
    "\n",
    "win=GraphWin('CirclePad',500,500)\n",
    "\n",
    "while True:\n",
    "    mouse=win.checkMouse()\n",
    "    if mouse != None:\n",
    "        cir=Circle(mouse,20)\n",
    "        cir.draw(win)\n",
    "            \n",
    "    key=win.checkKey()\n",
    "    if key=='Q':\n",
    "        break\n",
    "    elif key=='q':\n",
    "        break\n",
    "    \n",
    "win.close()"
   ]
  },
  {
   "cell_type": "code",
   "execution_count": null,
   "metadata": {},
   "outputs": [],
   "source": []
  },
  {
   "cell_type": "markdown",
   "metadata": {},
   "source": [
    "__Q23:__ The `square_root` function below uses the technique from section [7.5 of the text](http://greenteapress.com/thinkpython2/html/thinkpython2008.html#sec86) to compute the square root of a number.  Rewrite the `square_root` function so that it accomplishes the same task, but does not use a while True loop or a break statement. "
   ]
  },
  {
   "cell_type": "code",
   "execution_count": null,
   "metadata": {
    "deletable": false,
    "editable": false
   },
   "outputs": [],
   "source": [
    "def square_root(a):\n",
    "  x = a/2\n",
    "  while True:\n",
    "    y = (x + a/x) / 2\n",
    "    if y == x:\n",
    "        break\n",
    "    x = y\n",
    "    \n",
    "  return x"
   ]
  },
  {
   "cell_type": "code",
   "execution_count": null,
   "metadata": {
    "deletable": false,
    "editable": false
   },
   "outputs": [],
   "source": [
    "val = float(input('Enter a number: '))\n",
    "sqrt = square_root(val)    \n",
    "print ('The square root of ' + str(val) + ' is ' + str(sqrt))"
   ]
  },
  {
   "cell_type": "code",
   "execution_count": null,
   "metadata": {},
   "outputs": [],
   "source": []
  },
  {
   "cell_type": "markdown",
   "metadata": {},
   "source": [
    "__Q24:__ Which version of the `square_root` function in __Q23__ do you find easier to read? Why?"
   ]
  },
  {
   "cell_type": "markdown",
   "metadata": {},
   "source": []
  },
  {
   "cell_type": "markdown",
   "metadata": {},
   "source": [
    "### Floating Point Precision"
   ]
  },
  {
   "cell_type": "markdown",
   "metadata": {},
   "source": [
    "Consider the following program:\n",
    "```Python\n",
    "x = 3\n",
    "y = 1/3\n",
    "\n",
    "a = x - 3*y\n",
    "b = x - y - y - y\n",
    "\n",
    "if a==b:\n",
    "    print('Equal')\n",
    "else:\n",
    "    print('Not equal')\n",
    "```"
   ]
  },
  {
   "cell_type": "markdown",
   "metadata": {},
   "source": [
    "__Q25:__ If this program were to be run would you expect it to print `Equal` or `Not equal`?"
   ]
  },
  {
   "cell_type": "markdown",
   "metadata": {},
   "source": []
  },
  {
   "cell_type": "markdown",
   "metadata": {},
   "source": [
    "__Q26:__ Copy the program into a code cell and run it.  What does it print? Why? Hint: Print the values of `y` `a` and `b` and use them to give a complete answer."
   ]
  },
  {
   "cell_type": "markdown",
   "metadata": {},
   "source": []
  },
  {
   "cell_type": "markdown",
   "metadata": {},
   "source": [
    "__Q27:__ Questions __Q25__ and __Q26__ illustrate that `float` values do not always behave as we might naturally expect.  This is because computers can only approximate most real numbers.  For example, in the above program `y` has the value `0.3333333333333333` which is an approximation of `1/3` to 16 decimal places, but it is not exactly one third.  Thus, operations on `1/3` do not behave exactly like we might naturally expect.  Why exactly this happens is a topic for a later course.  However, practically we will often have to deal with this type of approximation in our programs.\n",
    "\n",
    "The result you observed in __Q25__ is often referred to as rounding error. This type of error can occur anytime we use `float` values and thus it is a good idea to not compare floats exactly as we did above.  Instead, it is best to check if two `float` values are _close enough_.  [Section 7.5 from the text](http://greenteapress.com/thinkpython2/html/thinkpython2008.html#sec86) gives an example of how to do such a check.  \n",
    "\n",
    "Rewrite the program above to check if `a` and `b` are *close enough* where, for this problem, we will define *close enough* as being with `0.000000001` of each other."
   ]
  },
  {
   "cell_type": "code",
   "execution_count": null,
   "metadata": {},
   "outputs": [],
   "source": []
  },
  {
   "cell_type": "markdown",
   "metadata": {},
   "source": [
    "__Q28:__ Doing relational comparisons of `float` values suffers from the same problem.  For example, using the above values the statement:\n",
    "```Python\n",
    "a > b\n",
    "```\n",
    "will evaluate to `True` even though as described in __Q27__ we want to consider them to be equal.  Write a statement that checks if `a` is greater than `b` using the *close enough* approach from __Q27__.  That is, your statement should evaluate to `True` if `a` is larger than `b` by at least `0.000000001` and `False` otherwise."
   ]
  },
  {
   "cell_type": "code",
   "execution_count": null,
   "metadata": {},
   "outputs": [],
   "source": []
  },
  {
   "cell_type": "markdown",
   "metadata": {},
   "source": [
    "### Statement Choice"
   ]
  },
  {
   "cell_type": "markdown",
   "metadata": {},
   "source": [
    "We now have two mechanisms in Python for repeating statements. We know from earlier questions that a `while` loop can accomplish anything that a simple `for` loop can accomplish. However, the simple `for` loop is better suited to situations where we know how many times we want to repeat the *loop body*.  While a `while` loop is better suited to situations in which we want to repeat the statements *while* some condition is true, or until some condition holds. Thus, choosing to use a simple `for` or a `while` communicates something to the human reader as well. \n",
    "\n",
    "__Q29:__ For each of the following tasks, indicate if a simple `for` loop or a `while` loop would be a better choice.\n",
    "- Roll a pair of die 100 times and estimate the probability of rolling a total of 7.\n",
    "- Roll a pair of die and count how many rolls it takes until _snake eyes_ (1,1) appears.\n",
    "- Ask the user to enter a password, each time an incorrect password is entered ask again.\n",
    "- Find the average of 1000 numbers.\n",
    "- In the card game rummy, each player gets a turn during each round.\n",
    "- In the card game rummy, the rounds continue until one player has no cards remaining."
   ]
  },
  {
   "cell_type": "markdown",
   "metadata": {},
   "source": []
  },
  {
   "cell_type": "markdown",
   "metadata": {},
   "source": [
    "### A Sketch Pad"
   ]
  },
  {
   "cell_type": "markdown",
   "metadata": {},
   "source": [
    "__Q30:__ Create a file named __SketchPad.py__ in your __Class23-24__ folder.  In that file write a program that lets you draw lines with mouse clicks using the `graphics.py` package.  The first click sets the starting point.  Then on each successive click a line is drawn from the location of the previous click to the location of the current click. Thus, a series of clicks will draws line that connects the point where the mouse has been clicked.  The program should continue to draw lines until the user types `q` or `Q` to exit the program.\n",
    "\n",
    "Hint: You might use your program from __Q22__ as a starting point.\n",
    "\n",
    "Be sure you are able to run your program from the Terminal.   Hint: Recall the `cd`, `ls` and `Python3` commands."
   ]
  },
  {
   "cell_type": "markdown",
   "metadata": {},
   "source": [
    "### Optional Challenge\n",
    "\n",
    "Extend your program from __Q30__ so that it can do one or more of the following:\n",
    "- Pressing `s` or `S` allows you to set a starting point for a new line.\n",
    "- Pressing `r` or `R` allows you to use 2 clicks to draw a rectangle.\n",
    "- Pressing `c` or `C` allows you to use 2 clicks to draw a circle.\n",
    "- Pressing `e` or `E` erases the screen.\n",
    "- Pressing `f` for `F` sets the fill color to the color.  A text entry area can be used to allow the user to type in the fill color to be used for future shapes.\n",
    "- Anything else you think might be fun or interesting or challenging."
   ]
  }
 ],
 "metadata": {
  "kernelspec": {
   "display_name": "Python 3",
   "language": "python",
   "name": "python3"
  },
  "language_info": {
   "codemirror_mode": {
    "name": "ipython",
    "version": 3
   },
   "file_extension": ".py",
   "mimetype": "text/x-python",
   "name": "python",
   "nbconvert_exporter": "python",
   "pygments_lexer": "ipython3",
   "version": "3.7.3"
  }
 },
 "nbformat": 4,
 "nbformat_minor": 2
}
