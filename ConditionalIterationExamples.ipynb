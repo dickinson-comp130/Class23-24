{
 "cells": [
  {
   "cell_type": "markdown",
   "metadata": {},
   "source": [
    "# Class 23-24 - Conditional Iteration Examples \n",
    "**COMP130 - Introduction to Computing**  \n",
    "**Dickinson College**  "
   ]
  },
  {
   "cell_type": "markdown",
   "metadata": {},
   "source": [
    "We have seen the `for` loop as a construct for performing repetitive operations.  The statements in the body of the loop were repeated a specific number of times. So we had to know how many times to repeat them (e.g. 4 for a square, etc).\n",
    "\n",
    "That is not always the case. There are lots of situations where a sequence of statements will need to be repeated, but we will not know in advance how many times they will need to be repeated. \n",
    "\n",
    "The `while` loop addresses these situations by providing the ability to repeat a sequence of statements (i.e. the loop body) as long as some condition is `True`."
   ]
  },
  {
   "cell_type": "markdown",
   "metadata": {},
   "source": [
    "### A First Example\n",
    "\n",
    "Recall the guessing game from the first day of class.  This isn't quite that, but its headed in that direction.  The program picks a random number and then lets the user guess until they get it correct.  How many guesses does that take? We of course don't know, so a `while` loop is the right choice here."
   ]
  },
  {
   "cell_type": "code",
   "execution_count": null,
   "metadata": {},
   "outputs": [],
   "source": [
    "import random\n",
    "\n",
    "magic_number=random.randint(1,5)\n",
    "\n",
    "guess = int(input(\"What is your guess?\"))\n",
    "while guess != magic_number:\n",
    "    guess = int(input(\"Nope! Guess again: \"))\n",
    "    \n",
    "print(\"You got it!!!\")"
   ]
  },
  {
   "cell_type": "markdown",
   "metadata": {},
   "source": [
    "### Compound Interest Example\n",
    "\n",
    "Compound interest is a good means by which to build wealth.  One question that might be worth asking is, given a principle investment and an interest rate how many compoundings will it take for my investment to double in value?  We can solve this problem using a `while` loop that keeps compounding the interest until the value has at least doubled."
   ]
  },
  {
   "cell_type": "code",
   "execution_count": null,
   "metadata": {},
   "outputs": [],
   "source": [
    "init_investment = float(input('What is the initial investment? '))\n",
    "interest_rate = float(input('What is the interest rate? '))\n",
    "\n",
    "current_value = init_investment\n",
    "compoundings = 0\n",
    "\n",
    "while current_value < (init_investment*2):\n",
    "    interest = current_value * interest_rate\n",
    "    current_value = current_value + interest\n",
    "    \n",
    "    compoundings = compoundings + 1\n",
    "    \n",
    "print('The investment doubled in ' + str(compoundings) + ' compoundings.')"
   ]
  },
  {
   "cell_type": "markdown",
   "metadata": {},
   "source": [
    "![Stop sign](stop.png)\n",
    "End of Class 23 material."
   ]
  },
  {
   "cell_type": "markdown",
   "metadata": {},
   "source": [
    "### `while True` and `break`\n",
    "\n",
    "The `break` statement *terminates* the execution of a loop.  It causes the execution of the program to jump immediately to the statements following the loop body.\n",
    "\n",
    "Consider the following rewrite of the guessing game above:"
   ]
  },
  {
   "cell_type": "code",
   "execution_count": null,
   "metadata": {},
   "outputs": [],
   "source": [
    "import random\n",
    "\n",
    "magic_number=random.randint(1,5)\n",
    "\n",
    "while True:\n",
    "    guess = int(input(\"Guess my number: \"))\n",
    "    \n",
    "    if guess == magic_number:\n",
    "        break\n",
    "    \n",
    "    print(\"Nope! That's not it.\")\n",
    "    \n",
    "print(\"You got it!!!\")"
   ]
  },
  {
   "cell_type": "markdown",
   "metadata": {},
   "source": [
    "The this implementation has tradeoffs:\n",
    "- Some people prefer this form because:\n",
    "  - Expressing a *termination condition* (`if guess == magic_number`) may be more natural than expressing a *continuation condition* (`while guess != magic_number`).\n",
    "  - The second similar `input` statement is eliminated.\n",
    "    - This becomes a stronger argument if there is more *setup* that has to be repeated in the loop.\n",
    "- Others dislike this form because:\n",
    "  - `while True:` suggests that the loop will never end which is not the case.\n",
    "  - Loop header no longer expresses purpose of the loop making it more difficult to understand what it does.\n",
    "    - This becomes a stronger argument if \n",
    "      - the loop contains more than one `break`, or\n",
    "      - there is a normal `while` condition and one or more break statements.\n"
   ]
  },
  {
   "cell_type": "markdown",
   "metadata": {},
   "source": [
    "### Floating Point _Rounding Error_ and Equality:\n",
    "\n",
    "We have see that the computer cannot represent all real values exactly. It instead uses `float` values, which sometimes must approximate the corresponding real number values.  This can lead to behavior that we do not naturally expect."
   ]
  },
  {
   "cell_type": "code",
   "execution_count": null,
   "metadata": {},
   "outputs": [],
   "source": [
    "x = 1/5\n",
    "y = 3/5\n",
    "\n",
    "z = x + x + x\n",
    "\n",
    "equal = (y == z)\n",
    "print(equal)"
   ]
  },
  {
   "cell_type": "markdown",
   "metadata": {},
   "source": [
    "To understand these results we can look at the values of the variables `x`, `y` and `z`:"
   ]
  },
  {
   "cell_type": "code",
   "execution_count": null,
   "metadata": {},
   "outputs": [],
   "source": [
    "print('x=' + str(x))\n",
    "print('y=' + str(y))\n",
    "print('z=' + str(z))"
   ]
  },
  {
   "cell_type": "markdown",
   "metadata": {},
   "source": [
    "The fact that `z` did not exactly equal `0.6` is called a *rounding error* and occurs due to the approximations used for `float` values.\n",
    "\n",
    "Because of such *rounding errors* it is generally a bad idea to directly compare two `float` values.  Instead, what is usually done is to check if two `float` values are *close enough* by checking if their difference is less than some small value *epsilon*."
   ]
  },
  {
   "cell_type": "code",
   "execution_count": null,
   "metadata": {},
   "outputs": [],
   "source": [
    "epsilon = 0.00000001\n",
    "equal = abs(y-z) < epsilon\n",
    "print(equal)"
   ]
  }
 ],
 "metadata": {
  "kernelspec": {
   "display_name": "Python 3",
   "language": "python",
   "name": "python3"
  },
  "language_info": {
   "codemirror_mode": {
    "name": "ipython",
    "version": 3
   },
   "file_extension": ".py",
   "mimetype": "text/x-python",
   "name": "python",
   "nbconvert_exporter": "python",
   "pygments_lexer": "ipython3",
   "version": "3.7.3"
  }
 },
 "nbformat": 4,
 "nbformat_minor": 2
}
